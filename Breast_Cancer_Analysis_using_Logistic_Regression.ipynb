{
  "nbformat": 4,
  "nbformat_minor": 0,
  "metadata": {
    "colab": {
      "name": "Breast Cancer Analysis using Logistic Regression.ipynb",
      "provenance": [],
      "collapsed_sections": []
    },
    "kernelspec": {
      "name": "python3",
      "display_name": "Python 3"
    }
  },
  "cells": [
    {
      "cell_type": "markdown",
      "metadata": {
        "id": "obc6eRcywb2l"
      },
      "source": [
        "Doing the library imports for Sci-Kit Learn, Pandas, Numpy\r\n"
      ]
    },
    {
      "cell_type": "code",
      "metadata": {
        "id": "Qbs683HWwXW2"
      },
      "source": [
        "import pandas as pd\r\n",
        "import numpy as np\r\n",
        "from sklearn.datasets import load_breast_cancer\r\n",
        "from sklearn.model_selection import train_test_split\r\n",
        "from sklearn.linear_model import LogisticRegression\r\n",
        "from sklearn.metrics import confusion_matrix\r\n",
        "from sklearn.metrics import classification_report\r\n",
        "from sklearn.metrics import mean_squared_error, r2_score"
      ],
      "execution_count": null,
      "outputs": []
    },
    {
      "cell_type": "markdown",
      "metadata": {
        "id": "0-Xe0BTwwjeE"
      },
      "source": [
        "loading breast-cancer data and see what is inside the dataset\r\n"
      ]
    },
    {
      "cell_type": "code",
      "metadata": {
        "colab": {
          "base_uri": "https://localhost:8080/"
        },
        "id": "xPPEqkUDSvei",
        "outputId": "d9b55404-6c65-49a8-8cc1-089cb11e9b94"
      },
      "source": [
        "cancer=load_breast_cancer()\r\n",
        "cancer.keys()"
      ],
      "execution_count": null,
      "outputs": [
        {
          "output_type": "execute_result",
          "data": {
            "text/plain": [
              "dict_keys(['data', 'target', 'target_names', 'DESCR', 'feature_names', 'filename'])"
            ]
          },
          "metadata": {
            "tags": []
          },
          "execution_count": 76
        }
      ]
    },
    {
      "cell_type": "markdown",
      "metadata": {
        "id": "s8BlEvACwokY"
      },
      "source": [
        "View the train dataset to give a description of the dataset and see the feature names that are present on database"
      ]
    },
    {
      "cell_type": "code",
      "metadata": {
        "id": "Pv4VWmYxee6N"
      },
      "source": [
        "cancer.data.shape\r\n",
        "print(cancer.DESCR)\r\n",
        "print (cancer.feature_names)"
      ],
      "execution_count": null,
      "outputs": []
    },
    {
      "cell_type": "markdown",
      "metadata": {
        "id": "YbLhh9yZwxSn"
      },
      "source": [
        "We later, add data to the dataframe and make the names of columns are set and we see the target variables that will when we list\r\n"
      ]
    },
    {
      "cell_type": "code",
      "metadata": {
        "colab": {
          "base_uri": "https://localhost:8080/"
        },
        "id": "iJsP3oiupZUz",
        "outputId": "14544f69-64ff-4bce-8066-5e020a746f28"
      },
      "source": [
        "cancer_dataset = pd.DataFrame(cancer.data)\r\n",
        "cancer_dataset.head()\r\n",
        "cancer_dataset.columns = cancer.feature_names\r\n",
        "list(cancer.target_names)"
      ],
      "execution_count": null,
      "outputs": [
        {
          "output_type": "execute_result",
          "data": {
            "text/plain": [
              "['malignant', 'benign']"
            ]
          },
          "metadata": {
            "tags": []
          },
          "execution_count": 78
        }
      ]
    },
    {
      "cell_type": "markdown",
      "metadata": {
        "id": "OpkEGtAaw2he"
      },
      "source": [
        "Setting up the model for training and testing by splitting the dataset where 80% will be used to train while the rest will be 20% for the test data"
      ]
    },
    {
      "cell_type": "code",
      "metadata": {
        "id": "-ZFWWZMLrcyU"
      },
      "source": [
        "X_train,X_test,Y_train,Y_test=train_test_split(cancer.data,cancer.target,train_size=.80, random_state=0)"
      ],
      "execution_count": null,
      "outputs": []
    },
    {
      "cell_type": "markdown",
      "metadata": {
        "id": "qWI3SqbcxBlT"
      },
      "source": [
        "Train the model by using logistic regression"
      ]
    },
    {
      "cell_type": "code",
      "metadata": {
        "id": "cj1_6PPDsDzJ"
      },
      "source": [
        "logisticRegressor = LogisticRegression()\r\n",
        "logisticRegressor.fit(X_train, Y_train)"
      ],
      "execution_count": null,
      "outputs": []
    },
    {
      "cell_type": "markdown",
      "metadata": {
        "id": "oKej6rAuxG_D"
      },
      "source": [
        "Use the model to predict the test data and accuracy score"
      ]
    },
    {
      "cell_type": "code",
      "metadata": {
        "colab": {
          "base_uri": "https://localhost:8080/"
        },
        "id": "lOaHJXB4tHc7",
        "outputId": "fedac14c-2610-4edf-cc26-c24069e01ec0"
      },
      "source": [
        "predictions = logisticRegressor.predict(X_test)\r\n",
        "score = logisticRegressor.score(X_test, Y_test)\r\n",
        "print(score)"
      ],
      "execution_count": null,
      "outputs": [
        {
          "output_type": "stream",
          "text": [
            "0.9473684210526315\n"
          ],
          "name": "stdout"
        }
      ]
    },
    {
      "cell_type": "markdown",
      "metadata": {
        "id": "4z9kn155u9tk"
      },
      "source": [
        "Then, for sklearn we will use the confusion matrix so that we are able to evaluate the model. So to represent the target names we will use 0 for benign and 1 for malignant"
      ]
    },
    {
      "cell_type": "code",
      "metadata": {
        "colab": {
          "base_uri": "https://localhost:8080/"
        },
        "id": "aJYw8BPZvf7p",
        "outputId": "88781bd8-1547-4bce-db58-6a8e743c02ce"
      },
      "source": [
        "\r\n",
        "cm = confusion_matrix(Y_test, predictions)\r\n",
        "cm\r\n",
        "confusion_df = pd.DataFrame(confusion_matrix(Y_test,predictions),\r\n",
        "             index = [\"Class \" + str(cancer.target_names) for cancer.target_names in [0,1]],\r\n",
        "             columns=[\"Predicted Class \" + str(cancer.target_names) for cancer.target_names in [0,1]])\r\n",
        "             \r\n",
        "print(confusion_df)"
      ],
      "execution_count": null,
      "outputs": [
        {
          "output_type": "stream",
          "text": [
            "         Predicted Class 0  Predicted Class 1\n",
            "Class 0                 45                  2\n",
            "Class 1                  4                 63\n"
          ],
          "name": "stdout"
        }
      ]
    },
    {
      "cell_type": "markdown",
      "metadata": {
        "id": "b9sneaGRwntN"
      },
      "source": [
        "Lastly, we check further into the model evaluation, where recall is the ratio of the total number of correctly classified positive examples divided by the total number of positive examples, precision is total number of correctly classified positive examples by the total number of predicted positive examples, f1-score is the multiplication of recall and precision multiply bt two"
      ]
    },
    {
      "cell_type": "code",
      "metadata": {
        "colab": {
          "base_uri": "https://localhost:8080/"
        },
        "id": "L0fBewkTwVK-",
        "outputId": "76d38be8-7edf-4063-f382-1441dfca8328"
      },
      "source": [
        "print(classification_report(Y_test, predictions))"
      ],
      "execution_count": null,
      "outputs": [
        {
          "output_type": "stream",
          "text": [
            "              precision    recall  f1-score   support\n",
            "\n",
            "           0       0.92      0.96      0.94        47\n",
            "           1       0.97      0.94      0.95        67\n",
            "\n",
            "    accuracy                           0.95       114\n",
            "   macro avg       0.94      0.95      0.95       114\n",
            "weighted avg       0.95      0.95      0.95       114\n",
            "\n"
          ],
          "name": "stdout"
        }
      ]
    }
  ]
}